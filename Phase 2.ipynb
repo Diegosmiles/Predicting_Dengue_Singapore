{
 "cells": [
  {
   "cell_type": "markdown",
   "metadata": {},
   "source": [
    "# Predicting Dengue Fever outbreaks in Singapore\n",
    "### Spatial, Demographic, Transportation Analysis\n",
    "#### Contributors:\n",
    "##### - Yuan Lai (https://github.com/ylurban)\n",
    "##### - Diego Garzòn (https://github.com/Diegosmiles)\n",
    "##### - Bilguun Turboli (https://github.com/bilguun)"
   ]
  },
  {
   "cell_type": "code",
   "execution_count": 63,
   "metadata": {
    "collapsed": false
   },
   "outputs": [
    {
     "name": "stdout",
     "output_type": "stream",
     "text": [
      "Populating the interactive namespace from numpy and matplotlib\n"
     ]
    },
    {
     "name": "stderr",
     "output_type": "stream",
     "text": [
      "WARNING: pylab import has clobbered these variables: ['matrix', 'plt']\n",
      "`%matplotlib` prevents importing * from pylab and numpy\n"
     ]
    }
   ],
   "source": [
    "# Import relevant modules\n",
    "import pandas as pd\n",
    "import numpy as np\n",
    "import matplotlib.pylab as plt\n",
    "import matplotlib.image as mpimg\n",
    "import numpy\n",
    "from PIL import Image\n",
    "from sklearn.pipeline import Pipeline\n",
    "from sklearn.decomposition import PCA\n",
    "from sklearn.ensemble import RandomForestClassifier\n",
    "from sklearn.grid_search import GridSearchCV\n",
    "from sklearn.cross_validation import train_test_split\n",
    "from sklearn.metrics import accuracy_score\n",
    "from sklearn.cross_validation import KFold\n",
    "from sklearn.metrics import roc_auc_score\n",
    "from sklearn.metrics import confusion_matrix\n",
    "import statsmodels.formula.api as smf\n",
    "from gridsearch import get_results\n",
    "import time\n",
    "import itertools\n",
    "from sklearn.linear_model import Ridge\n",
    "%pylab inline"
   ]
  },
  {
   "cell_type": "markdown",
   "metadata": {},
   "source": [
    "### DATA PREPARATION"
   ]
  },
  {
   "cell_type": "code",
   "execution_count": 3,
   "metadata": {
    "collapsed": true
   },
   "outputs": [],
   "source": [
    "def feature_to_array(file_n):\n",
    "    #The input of the function is a raster file with dimentions (n pixels,m pixels), \n",
    "    #and the output is going to be an array of dimmensions (m*n,1). \n",
    "    #Each pixel is going to have a unique identifier (index in the array). \n",
    "    #This index follows the formula (i*n)+j where (i,j) is the position of the pixel in the image \n",
    "    #and n is the width of the image.\n",
    "    im = mpimg.imread(file_n)  \n",
    "    im_greyscale = rgb2gray(im)   \n",
    "    imarray = numpy.array(im_greyscale)\n",
    "    feature=[i for a in imarray for i in a]\n",
    "    return feature\n",
    "\n",
    "def rgb2gray(rgb):\n",
    "    return np.dot(rgb[...,:3], [0.299, 0.587, 0.114])\n",
    "\n",
    "def read_pictures(filename):\n",
    "    file_name=filename\n",
    "    im = mpimg.imread(file_name)  \n",
    "    im_greyscale = rgb2gray(im)  "
   ]
  },
  {
   "cell_type": "code",
   "execution_count": 4,
   "metadata": {
    "collapsed": false
   },
   "outputs": [],
   "source": [
    "file_name='Raster_images/BusStop.png'\n",
    "bus=feature_to_array(file_name) # array1\n",
    "\n",
    "file_name='Raster_images/Mosquito.png'\n",
    "mosquito=feature_to_array(file_name) # array4\n",
    "\n",
    "file_name='Raster_images/Str_Density.png'\n",
    "street=feature_to_array(file_name) # array5\n",
    "\n",
    "file_name='Raster_images/Trash.png'\n",
    "trash=feature_to_array(file_name) # array6\n",
    "\n",
    "file_name='Raster_images/Lot_Density.png'\n",
    "lot=feature_to_array(file_name) # array7\n",
    "\n",
    "file_name='Raster_images/Water_Facility.png'\n",
    "water=feature_to_array(file_name) # array8\n",
    "\n",
    "file_name='Raster_images/Park_Dist.png'\n",
    "park=feature_to_array(file_name) # array9\n",
    "\n",
    "file_name='Raster_images/POP.png'\n",
    "pop=feature_to_array(file_name) # array7\n",
    "\n",
    "# Y variable\n",
    "file_name='Raster_images/Case.png'\n",
    "case=feature_to_array(file_name) # array2\n",
    "\n",
    "# In or outside Singapore\n",
    "file_name='Raster_images/Land.png'\n",
    "land=feature_to_array(file_name) # array3"
   ]
  },
  {
   "cell_type": "code",
   "execution_count": 5,
   "metadata": {
    "collapsed": false
   },
   "outputs": [],
   "source": [
    "#cases = list(case/np.max(case)) # Normalize\n",
    "inorout = list(1-(land/np.max(land))) # get binary value indicating whether pixel is inside Singapore or not"
   ]
  },
  {
   "cell_type": "code",
   "execution_count": 6,
   "metadata": {
    "collapsed": false
   },
   "outputs": [
    {
     "data": {
      "text/html": [
       "<div>\n",
       "<table border=\"1\" class=\"dataframe\">\n",
       "  <thead>\n",
       "    <tr style=\"text-align: right;\">\n",
       "      <th></th>\n",
       "      <th>0</th>\n",
       "      <th>1</th>\n",
       "      <th>2</th>\n",
       "      <th>3</th>\n",
       "      <th>4</th>\n",
       "      <th>5</th>\n",
       "      <th>6</th>\n",
       "      <th>7</th>\n",
       "      <th>8</th>\n",
       "    </tr>\n",
       "  </thead>\n",
       "  <tbody>\n",
       "    <tr>\n",
       "      <th>0</th>\n",
       "      <td>0.941176</td>\n",
       "      <td>0.941176</td>\n",
       "      <td>0.941176</td>\n",
       "      <td>0.941176</td>\n",
       "      <td>0.941176</td>\n",
       "      <td>0.941176</td>\n",
       "      <td>0.941176</td>\n",
       "      <td>0.941176</td>\n",
       "      <td>0.941176</td>\n",
       "    </tr>\n",
       "    <tr>\n",
       "      <th>1</th>\n",
       "      <td>0.941176</td>\n",
       "      <td>0.941176</td>\n",
       "      <td>0.941176</td>\n",
       "      <td>0.941176</td>\n",
       "      <td>0.941176</td>\n",
       "      <td>0.941176</td>\n",
       "      <td>0.941176</td>\n",
       "      <td>0.941176</td>\n",
       "      <td>0.941176</td>\n",
       "    </tr>\n",
       "    <tr>\n",
       "      <th>2</th>\n",
       "      <td>0.941176</td>\n",
       "      <td>0.941176</td>\n",
       "      <td>0.941176</td>\n",
       "      <td>0.941176</td>\n",
       "      <td>0.941176</td>\n",
       "      <td>0.941176</td>\n",
       "      <td>0.941176</td>\n",
       "      <td>0.941176</td>\n",
       "      <td>0.941176</td>\n",
       "    </tr>\n",
       "    <tr>\n",
       "      <th>3</th>\n",
       "      <td>0.941176</td>\n",
       "      <td>0.941176</td>\n",
       "      <td>0.941176</td>\n",
       "      <td>0.941176</td>\n",
       "      <td>0.941176</td>\n",
       "      <td>0.941176</td>\n",
       "      <td>0.941176</td>\n",
       "      <td>0.941176</td>\n",
       "      <td>0.941176</td>\n",
       "    </tr>\n",
       "    <tr>\n",
       "      <th>4</th>\n",
       "      <td>0.941176</td>\n",
       "      <td>0.941176</td>\n",
       "      <td>0.941176</td>\n",
       "      <td>0.941176</td>\n",
       "      <td>0.941176</td>\n",
       "      <td>0.941176</td>\n",
       "      <td>0.941176</td>\n",
       "      <td>0.941176</td>\n",
       "      <td>0.941176</td>\n",
       "    </tr>\n",
       "  </tbody>\n",
       "</table>\n",
       "</div>"
      ],
      "text/plain": [
       "          0         1         2         3         4         5         6  \\\n",
       "0  0.941176  0.941176  0.941176  0.941176  0.941176  0.941176  0.941176   \n",
       "1  0.941176  0.941176  0.941176  0.941176  0.941176  0.941176  0.941176   \n",
       "2  0.941176  0.941176  0.941176  0.941176  0.941176  0.941176  0.941176   \n",
       "3  0.941176  0.941176  0.941176  0.941176  0.941176  0.941176  0.941176   \n",
       "4  0.941176  0.941176  0.941176  0.941176  0.941176  0.941176  0.941176   \n",
       "\n",
       "          7         8  \n",
       "0  0.941176  0.941176  \n",
       "1  0.941176  0.941176  \n",
       "2  0.941176  0.941176  \n",
       "3  0.941176  0.941176  \n",
       "4  0.941176  0.941176  "
      ]
     },
     "execution_count": 6,
     "metadata": {},
     "output_type": "execute_result"
    }
   ],
   "source": [
    "Data = pd.DataFrame([bus,street,trash,mosquito,lot,water,pop,park,case]).T\n",
    "Data.head()"
   ]
  },
  {
   "cell_type": "code",
   "execution_count": 7,
   "metadata": {
    "collapsed": false
   },
   "outputs": [
    {
     "name": "stderr",
     "output_type": "stream",
     "text": [
      "/anaconda/lib/python2.7/site-packages/ipykernel/__main__.py:4: SettingWithCopyWarning: \n",
      "A value is trying to be set on a copy of a slice from a DataFrame.\n",
      "Try using .loc[row_indexer,col_indexer] = value instead\n",
      "\n",
      "See the caveats in the documentation: http://pandas.pydata.org/pandas-docs/stable/indexing.html#indexing-view-versus-copy\n"
     ]
    }
   ],
   "source": [
    "Data_filt = Data[np.array(inorout)==1.0] # filter dataset to only pixels within Singapore\n",
    "Data_filt.columns = ['BusStop','Street','Trash',\n",
    "                     'Mosquito','Lot','Water','Population','Park','Case']\n",
    "Data_filt['Case'] = np.where(Data_filt['Case']==0,1,0) # Transform Case label into 1 (=case) or 0 (=no case)"
   ]
  },
  {
   "cell_type": "code",
   "execution_count": 8,
   "metadata": {
    "collapsed": false
   },
   "outputs": [
    {
     "data": {
      "text/html": [
       "<div>\n",
       "<table border=\"1\" class=\"dataframe\">\n",
       "  <thead>\n",
       "    <tr style=\"text-align: right;\">\n",
       "      <th></th>\n",
       "      <th>BusStop</th>\n",
       "      <th>Street</th>\n",
       "      <th>Trash</th>\n",
       "      <th>Mosquito</th>\n",
       "      <th>Lot</th>\n",
       "      <th>Water</th>\n",
       "      <th>Population</th>\n",
       "      <th>Park</th>\n",
       "      <th>Case</th>\n",
       "    </tr>\n",
       "  </thead>\n",
       "  <tbody>\n",
       "    <tr>\n",
       "      <th>147867</th>\n",
       "      <td>0.941176</td>\n",
       "      <td>0.941176</td>\n",
       "      <td>0.941176</td>\n",
       "      <td>0.941176</td>\n",
       "      <td>0.941176</td>\n",
       "      <td>0.941176</td>\n",
       "      <td>0.941176</td>\n",
       "      <td>0.941176</td>\n",
       "      <td>0</td>\n",
       "    </tr>\n",
       "    <tr>\n",
       "      <th>150112</th>\n",
       "      <td>0.941176</td>\n",
       "      <td>0.941176</td>\n",
       "      <td>0.941176</td>\n",
       "      <td>0.941176</td>\n",
       "      <td>0.941176</td>\n",
       "      <td>0.941176</td>\n",
       "      <td>0.941176</td>\n",
       "      <td>0.941176</td>\n",
       "      <td>0</td>\n",
       "    </tr>\n",
       "    <tr>\n",
       "      <th>150113</th>\n",
       "      <td>0.941176</td>\n",
       "      <td>0.941176</td>\n",
       "      <td>0.941176</td>\n",
       "      <td>0.941176</td>\n",
       "      <td>0.941176</td>\n",
       "      <td>0.941176</td>\n",
       "      <td>0.941176</td>\n",
       "      <td>0.941176</td>\n",
       "      <td>0</td>\n",
       "    </tr>\n",
       "    <tr>\n",
       "      <th>150114</th>\n",
       "      <td>0.941176</td>\n",
       "      <td>0.941176</td>\n",
       "      <td>0.941176</td>\n",
       "      <td>0.941176</td>\n",
       "      <td>0.941176</td>\n",
       "      <td>0.941176</td>\n",
       "      <td>0.941176</td>\n",
       "      <td>0.941176</td>\n",
       "      <td>0</td>\n",
       "    </tr>\n",
       "    <tr>\n",
       "      <th>151167</th>\n",
       "      <td>0.219608</td>\n",
       "      <td>0.121569</td>\n",
       "      <td>0.000000</td>\n",
       "      <td>0.941176</td>\n",
       "      <td>0.011765</td>\n",
       "      <td>0.000000</td>\n",
       "      <td>0.521569</td>\n",
       "      <td>0.000000</td>\n",
       "      <td>0</td>\n",
       "    </tr>\n",
       "  </tbody>\n",
       "</table>\n",
       "</div>"
      ],
      "text/plain": [
       "         BusStop    Street     Trash  Mosquito       Lot     Water  \\\n",
       "147867  0.941176  0.941176  0.941176  0.941176  0.941176  0.941176   \n",
       "150112  0.941176  0.941176  0.941176  0.941176  0.941176  0.941176   \n",
       "150113  0.941176  0.941176  0.941176  0.941176  0.941176  0.941176   \n",
       "150114  0.941176  0.941176  0.941176  0.941176  0.941176  0.941176   \n",
       "151167  0.219608  0.121569  0.000000  0.941176  0.011765  0.000000   \n",
       "\n",
       "        Population      Park  Case  \n",
       "147867    0.941176  0.941176     0  \n",
       "150112    0.941176  0.941176     0  \n",
       "150113    0.941176  0.941176     0  \n",
       "150114    0.941176  0.941176     0  \n",
       "151167    0.521569  0.000000     0  "
      ]
     },
     "execution_count": 8,
     "metadata": {},
     "output_type": "execute_result"
    }
   ],
   "source": [
    "Data_filt.head()"
   ]
  },
  {
   "cell_type": "code",
   "execution_count": 9,
   "metadata": {
    "collapsed": false
   },
   "outputs": [
    {
     "name": "stdout",
     "output_type": "stream",
     "text": [
      "Case\n",
      "0    276140\n",
      "1      3428\n",
      "dtype: int64\n",
      "Case\n",
      "0    98.773822\n",
      "1     1.226178\n",
      "dtype: float64\n"
     ]
    }
   ],
   "source": [
    "print Data_filt.groupby('Case').size()\n",
    "print (Data_filt.groupby('Case').size()/len(Data_filt))*100"
   ]
  },
  {
   "cell_type": "markdown",
   "metadata": {},
   "source": [
    "#### Recorded Dengue fever cases are approximately 1.2% of the available data. For this reason, the optimal evaluation metrix needs to be applied: Instead of accuracy rate, we use AUC score.\n",
    "\n",
    "    The AUC, which is part of performance metric of a logistic regression, is a commonly used evaluation metric for binary classification problems like predicting a Buy or Sell decision (binary decision). The interpretation is that given a random positive observation and negative observation, the AUC gives the proportion of the time you guess which is correct. It is less affected by sample balance than accuracy. A perfect model will score an AUC of 1, while random guessing will score an AUC of around 0.5, a meager 50% chance on each other. \n",
    " \n",
    "(https://www.kaggle.com/wiki/AreaUnderCurve )"
   ]
  },
  {
   "cell_type": "markdown",
   "metadata": {},
   "source": [
    "### MACHINE LEARNING"
   ]
  },
  {
   "cell_type": "code",
   "execution_count": 10,
   "metadata": {
    "collapsed": false
   },
   "outputs": [],
   "source": [
    "X = Data_filt[Data_filt.columns.difference(['Mosquito','Case'])]\n",
    "Y = Data_filt['Case']\n",
    "\n",
    "X_train, X_test = train_test_split(X, test_size=0.2, random_state=21)\n",
    "Y_train, Y_test = train_test_split(Y, test_size=0.2, random_state=21)"
   ]
  },
  {
   "cell_type": "markdown",
   "metadata": {},
   "source": [
    "#### Logistic Regression"
   ]
  },
  {
   "cell_type": "code",
   "execution_count": 11,
   "metadata": {
    "collapsed": false
   },
   "outputs": [
    {
     "name": "stdout",
     "output_type": "stream",
     "text": [
      "Optimization terminated successfully.\n",
      "         Current function value: 0.052980\n",
      "         Iterations 10\n",
      "\n",
      "                           Logit Regression Results                           \n",
      "==============================================================================\n",
      "Dep. Variable:                   Case   No. Observations:               279568\n",
      "Model:                          Logit   Df Residuals:                   279560\n",
      "Method:                           MLE   Df Model:                            7\n",
      "Date:                Sat, 30 Apr 2016   Pseudo R-squ.:                  0.1991\n",
      "Time:                        08:51:13   Log-Likelihood:                -14812.\n",
      "converged:                       True   LL-Null:                       -18494.\n",
      "                                        LLR p-value:                     0.000\n",
      "==============================================================================\n",
      "                 coef    std err          z      P>|z|      [95.0% Conf. Int.]\n",
      "------------------------------------------------------------------------------\n",
      "Intercept     -6.8236      0.066   -103.012      0.000        -6.953    -6.694\n",
      "BusStop        2.4513      0.125     19.643      0.000         2.207     2.696\n",
      "Street         1.9256      0.139     13.886      0.000         1.654     2.197\n",
      "Trash          1.8366      0.088     20.792      0.000         1.663     2.010\n",
      "Park          -2.9800      0.101    -29.455      0.000        -3.178    -2.782\n",
      "Population    -0.4060      0.070     -5.816      0.000        -0.543    -0.269\n",
      "Water          1.3773      0.094     14.599      0.000         1.192     1.562\n",
      "Lot            0.7785      0.084      9.321      0.000         0.615     0.942\n",
      "==============================================================================\n"
     ]
    }
   ],
   "source": [
    "# Let's fit the logit model on the whole data\n",
    "# http://statsmodels.sourceforge.net/stable/generated/statsmodels.discrete.discrete_model.Logit.html?highlight=logistic\n",
    "logit_mod = smf.logit('Case ~ BusStop + Street + Trash + Park + Population + Water + Lot', data = Data_filt).fit()\n",
    "print '\\n',logit_mod.summary()"
   ]
  },
  {
   "cell_type": "code",
   "execution_count": 59,
   "metadata": {
    "collapsed": false
   },
   "outputs": [
    {
     "name": "stdout",
     "output_type": "stream",
     "text": [
      "        Logit Marginal Effects       \n",
      "=====================================\n",
      "Dep. Variable:                   Case\n",
      "Method:                          dydx\n",
      "At:                           overall\n",
      "==============================================================================\n",
      "                dy/dx    std err          z      P>|z|      [95.0% Conf. Int.]\n",
      "------------------------------------------------------------------------------\n",
      "BusStop        0.0283      0.002     18.842      0.000         0.025     0.031\n",
      "Street         0.0223      0.002     13.628      0.000         0.019     0.025\n",
      "Trash          0.0212      0.001     19.951      0.000         0.019     0.023\n",
      "Park          -0.0344      0.001    -27.151      0.000        -0.037    -0.032\n",
      "Population    -0.0047      0.001     -5.791      0.000        -0.006    -0.003\n",
      "Water          0.0159      0.001     14.270      0.000         0.014     0.018\n",
      "Lot            0.0090      0.001      9.243      0.000         0.007     0.011\n",
      "==============================================================================\n"
     ]
    }
   ],
   "source": [
    "print logit_mod.get_margeff().summary()"
   ]
  },
  {
   "cell_type": "code",
   "execution_count": 12,
   "metadata": {
    "collapsed": false
   },
   "outputs": [
    {
     "name": "stderr",
     "output_type": "stream",
     "text": [
      "/anaconda/lib/python2.7/site-packages/ipykernel/__main__.py:1: SettingWithCopyWarning: \n",
      "A value is trying to be set on a copy of a slice from a DataFrame.\n",
      "Try using .loc[row_indexer,col_indexer] = value instead\n",
      "\n",
      "See the caveats in the documentation: http://pandas.pydata.org/pandas-docs/stable/indexing.html#indexing-view-versus-copy\n",
      "  if __name__ == '__main__':\n"
     ]
    }
   ],
   "source": [
    "Data_filt['PredictionLogit'] = logit_mod.predict(Data_filt)"
   ]
  },
  {
   "cell_type": "code",
   "execution_count": 13,
   "metadata": {
    "collapsed": false
   },
   "outputs": [],
   "source": [
    "Data_train = pd.concat([X_train,Y_train],axis=1)\n",
    "Data_test = pd.concat([X_test,Y_test],axis=1)"
   ]
  },
  {
   "cell_type": "code",
   "execution_count": 14,
   "metadata": {
    "collapsed": false
   },
   "outputs": [
    {
     "name": "stdout",
     "output_type": "stream",
     "text": [
      "Optimization terminated successfully.\n",
      "         Current function value: 0.052904\n",
      "         Iterations 10\n",
      "0.5\n"
     ]
    }
   ],
   "source": [
    "# Let's fit the logit model on the training data to check accuracy scores\n",
    "logit_mod_train = smf.logit('Case ~ BusStop + Street + Trash + Park + Population + Water + Lot', data = Data_train).fit()\n",
    "print roc_auc_score(Data_test['Case'],np.where(logit_mod_train.predict(Data_test)>0.5,1,0))"
   ]
  },
  {
   "cell_type": "code",
   "execution_count": 15,
   "metadata": {
    "collapsed": false
   },
   "outputs": [
    {
     "name": "stdout",
     "output_type": "stream",
     "text": [
      "0.499998189324\n"
     ]
    }
   ],
   "source": [
    "print roc_auc_score(Data_filt['Case'],np.where(logit_mod_train.predict(Data_filt)>0.5,1,0))"
   ]
  },
  {
   "cell_type": "code",
   "execution_count": 16,
   "metadata": {
    "collapsed": true
   },
   "outputs": [],
   "source": [
    "#Outuput: dictionary linking index of one dimmensional array and original i,j position of pixel:\n",
    "file_name='Raster_images/Land.png'\n",
    "m=numpy.array(Image.open(file_name)).shape[0]\n",
    "n=numpy.array(Image.open(file_name)).shape[1]\n",
    "def indexes(m,n):    \n",
    "    index_2dim={}\n",
    "    for M in range(0,m*n):\n",
    "        index_2dim[M]={'i':int(M)/int(n), 'j':M-((int(M)/int(n))*n)}\n",
    "    return index_2dim\n",
    "original_index_dict=indexes(m,n)"
   ]
  },
  {
   "cell_type": "code",
   "execution_count": 17,
   "metadata": {
    "collapsed": false
   },
   "outputs": [],
   "source": [
    "# Plot the label on a map\n",
    "#0 disease, 1 no disease, 0 outside singapore (since probabilty is zero anyways)\n",
    "matrix = np.zeros((m,n))\n",
    "for M in Data_filt.index:\n",
    "    i=original_index_dict[M]['i']\n",
    "    j=original_index_dict[M]['j']\n",
    "    matrix[i][j]=Data_filt.PredictionLogit[M] # Get label\n",
    "m_l=matrix.tolist()"
   ]
  },
  {
   "cell_type": "code",
   "execution_count": 18,
   "metadata": {
    "collapsed": false
   },
   "outputs": [
    {
     "name": "stderr",
     "output_type": "stream",
     "text": [
      "//anaconda/lib/python2.7/site-packages/matplotlib/collections.py:590: FutureWarning: elementwise comparison failed; returning scalar instead, but in the future will perform elementwise comparison\n",
      "  if self._edgecolors == str('face'):\n"
     ]
    },
    {
     "data": {
      "image/png": "[encoded data removed]",
      "text/plain": [
       "<matplotlib.figure.Figure at 0x13b341510>"
      ]
     },
     "metadata": {},
     "output_type": "display_data"
    }
   ],
   "source": [
    "fig, ax = subplots(figsize=(12, 12))\n",
    "plt.imshow(m_l, interpolation='nearest', cmap='Blues', extent=(0.5,10.5,0.5,10.5))\n",
    "plt.colorbar()\n",
    "plt.savefig('logit.png')"
   ]
  },
  {
   "cell_type": "markdown",
   "metadata": {},
   "source": [
    "##### Random Forest using Gridsearch and PCA"
   ]
  },
  {
   "cell_type": "code",
   "execution_count": 19,
   "metadata": {
    "collapsed": true
   },
   "outputs": [],
   "source": [
    "pca = PCA()\n",
    "forest = RandomForestClassifier()\n",
    "pipe = Pipeline(steps=[('pca', pca), ('forest', forest)])"
   ]
  },
  {
   "cell_type": "code",
   "execution_count": 20,
   "metadata": {
    "collapsed": false,
    "scrolled": true
   },
   "outputs": [
    {
     "data": {
      "image/png": "[encoded data removed]",
      "text/plain": [
       "<matplotlib.figure.Figure at 0x139471150>"
      ]
     },
     "metadata": {},
     "output_type": "display_data"
    }
   ],
   "source": [
    "# Show components before running the pipeline\n",
    "pca.fit(X_train.as_matrix())\n",
    "plt.figure(1, figsize=(6, 6))\n",
    "plt.plot(pca.explained_variance_, linewidth=2, c='salmon', alpha=0.8)\n",
    "plt.axis('tight')\n",
    "plt.xlabel('Number of components');\n",
    "plt.ylabel('Explained Variance');"
   ]
  },
  {
   "cell_type": "code",
   "execution_count": 38,
   "metadata": {
    "collapsed": true
   },
   "outputs": [],
   "source": [
    "# Define the parameter for which the optimal value should be picked by GridsearchCV\n",
    "max_features = ['auto','sqrt','log2']\n",
    "criterion = ['gini','entropy']\n",
    "n_estimators = [500,1000,5000] # Check some possible estimators"
   ]
  },
  {
   "cell_type": "code",
   "execution_count": 22,
   "metadata": {
    "collapsed": false
   },
   "outputs": [],
   "source": [
    "# Initiate the grid search\n",
    "#estimator = GridSearchCV(pipe,dict(pca__n_components=n_components,\n",
    "#                    forest__n_estimators=n_estimators, forest__criterion=criterion,\n",
    "#                    forest__max_features=max_features),iid=True,cv=5,refit=True,scoring='roc_auc')"
   ]
  },
  {
   "cell_type": "code",
   "execution_count": 23,
   "metadata": {
    "collapsed": false
   },
   "outputs": [],
   "source": [
    "# Parameters that can be set\n",
    "#estimator.get_params().keys()"
   ]
  },
  {
   "cell_type": "code",
   "execution_count": 24,
   "metadata": {
    "collapsed": false
   },
   "outputs": [],
   "source": [
    "#%%time\n",
    "# This takes considerable time\n",
    "#estimator.fit(X_train, Y_train)\n",
    "#print estimator.best_estimator_\n",
    "#print estimator.best_params_\n",
    "#print estimator.best_score_"
   ]
  },
  {
   "cell_type": "code",
   "execution_count": null,
   "metadata": {
    "collapsed": false
   },
   "outputs": [],
   "source": [
    "#plt.figure(1, figsize=(6, 6))\n",
    "#plt.plot(pca.explained_variance_, linewidth=2, c='salmon', alpha=0.8)\n",
    "#plt.axis('tight')\n",
    "#plt.xlabel('Number of components');\n",
    "#plt.ylabel('Explained Variance');\n",
    "#plt.axvline(estimator.best_estimator_.named_steps['pca'].n_components,\n",
    "#            linestyle=':', label='Number of components chosen')\n",
    "#plt.legend(prop=dict(size=10))\n",
    "#plt.xlim(0,5.0)"
   ]
  },
  {
   "cell_type": "markdown",
   "metadata": {},
   "source": [
    "***Since the best PCA picks 3 components, we will not perform PCA in the manual approach***"
   ]
  },
  {
   "cell_type": "markdown",
   "metadata": {},
   "source": [
    "##### Manual Random Forest"
   ]
  },
  {
   "cell_type": "code",
   "execution_count": 37,
   "metadata": {
    "collapsed": false
   },
   "outputs": [
    {
     "data": {
      "text/plain": [
       "['log2', 'sqrt', 'log2']"
      ]
     },
     "execution_count": 37,
     "metadata": {},
     "output_type": "execute_result"
    }
   ],
   "source": [
    "max_features"
   ]
  },
  {
   "cell_type": "code",
   "execution_count": 41,
   "metadata": {
    "collapsed": true
   },
   "outputs": [],
   "source": [
    "def get_results(max_features,criterion,X,Y): #,n_estimators\n",
    "    kf = KFold(n=len(X), n_folds=4, shuffle=True, random_state=21)\n",
    "    d = []\n",
    "    for train_index, test_index in kf:\n",
    "        for rf_features,criter in itertools.product(max_features,criterion): #,rf_estimators,n_estimators\n",
    "            X_tr, X_test = X[train_index], X[test_index]\n",
    "            X_train, X_validation = train_test_split(X_tr, test_size=0.2, random_state=21)\n",
    "            Y_tr, Y_test = Y[train_index], Y[test_index]\n",
    "            Y_train, Y_validation = train_test_split(Y_tr, test_size=0.2, random_state=21)\n",
    "            del X_tr\n",
    "            del Y_tr\n",
    "            forest = RandomForestClassifier(bootstrap=True, class_weight=None, criterion=criter,\n",
    "                    max_depth=None, max_features=rf_features, max_leaf_nodes=None,\n",
    "                    min_samples_leaf=1, min_samples_split=2,\n",
    "                    min_weight_fraction_leaf=0.0, n_estimators=100, n_jobs=1,\n",
    "                    oob_score=False, random_state=21, verbose=0,\n",
    "                    warm_start=False)\n",
    "            forest.fit(X_train,Y_train)\n",
    "            forest_pred = forest.predict(X_validation)\n",
    "            name = '%s,%s,%s'%(str(rf_features),str(criter),str(100))\n",
    "            d.append((name,roc_auc_score(Y_validation,forest_pred),X_train,X_test,Y_train,Y_test))\n",
    "    return sorted(d, key=lambda tup: tup[1])[-1]"
   ]
  },
  {
   "cell_type": "code",
   "execution_count": 45,
   "metadata": {
    "collapsed": false
   },
   "outputs": [
    {
     "name": "stdout",
     "output_type": "stream",
     "text": [
      "auto\n",
      "auto\n",
      "sqrt\n",
      "sqrt\n",
      "log2\n",
      "log2\n",
      "auto\n",
      "auto\n",
      "sqrt\n",
      "sqrt\n",
      "log2\n",
      "log2\n",
      "auto\n",
      "auto\n",
      "sqrt\n",
      "sqrt\n",
      "log2\n",
      "log2\n",
      "auto\n",
      "auto\n",
      "sqrt\n",
      "sqrt\n",
      "log2\n",
      "log2\n",
      "CPU times: user 3min 11s, sys: 4.6 s, total: 3min 16s\n",
      "Wall time: 3min 2s\n"
     ]
    }
   ],
   "source": [
    "%%time\n",
    "# Get the best parameters\n",
    "# Based on a smaller sample\n",
    "best = get_results(max_features,criterion,X[['BusStop','Street','Water']].as_matrix(),Y.as_matrix())\n",
    "best_params,X_train_best,X_test_best,Y_train_best,Y_test_best = best[0].split(','),best[2],best[3],best[4],best[5]\n",
    "\n",
    "# Run RF\n",
    "forest = RandomForestClassifier(bootstrap=True, class_weight=None, criterion=best_params[1],\n",
    "                max_depth=None, max_features=best_params[0], max_leaf_nodes=None,\n",
    "                min_samples_leaf=1, min_samples_split=2,\n",
    "                min_weight_fraction_leaf=0.0, n_estimators=int(best_params[2]), n_jobs=-1,\n",
    "                oob_score=False, random_state=21, verbose=0,\n",
    "                warm_start=False)\n",
    "forest.fit(X_train_best,Y_train_best)"
   ]
  },
  {
   "cell_type": "code",
   "execution_count": 47,
   "metadata": {
    "collapsed": false
   },
   "outputs": [
    {
     "data": {
      "text/plain": [
       "['log2', 'gini', '100']"
      ]
     },
     "execution_count": 47,
     "metadata": {},
     "output_type": "execute_result"
    }
   ],
   "source": [
    "best_params"
   ]
  },
  {
   "cell_type": "code",
   "execution_count": 46,
   "metadata": {
    "collapsed": false
   },
   "outputs": [
    {
     "name": "stdout",
     "output_type": "stream",
     "text": [
      "0.989283465919\n",
      "0.70496903115\n"
     ]
    }
   ],
   "source": [
    "#Data_filt['LabelsRF'] = forest.predict(X)\n",
    "# Get results\n",
    "print accuracy_score(Y_test_best,forest.predict(X_test_best))\n",
    "print roc_auc_score(Y_test_best,forest.predict(X_test_best))"
   ]
  },
  {
   "cell_type": "markdown",
   "metadata": {},
   "source": [
    "#### Manual RF without gridsearch"
   ]
  },
  {
   "cell_type": "code",
   "execution_count": 48,
   "metadata": {
    "collapsed": true
   },
   "outputs": [],
   "source": [
    "# Define the parameter for which the optimal value should be picked by GridsearchCV\n",
    "max_features = 'log2'\n",
    "criterion = 'gini'\n",
    "n_estimators = 1000 # Check if this number of estimators improves performance"
   ]
  },
  {
   "cell_type": "code",
   "execution_count": 49,
   "metadata": {
    "collapsed": false
   },
   "outputs": [
    {
     "name": "stdout",
     "output_type": "stream",
     "text": [
      "CPU times: user 30min 35s, sys: 23.2 s, total: 30min 58s\n",
      "Wall time: 4min 28s\n"
     ]
    }
   ],
   "source": [
    "%%time\n",
    "# http://blog.datadive.net/selecting-good-features-part-iii-random-forests/\n",
    "kf = KFold(n=len(X), n_folds=6, shuffle=True, random_state=21)\n",
    "d = []\n",
    "for train_index, test_index in kf:\n",
    "    X_tr, X_test = X.as_matrix()[train_index], X.as_matrix()[test_index]\n",
    "    X_train, X_validation = train_test_split(X_tr, test_size=0.2, random_state=21)\n",
    "    Y_tr, Y_test = Y.as_matrix()[train_index], Y.as_matrix()[test_index]\n",
    "    Y_train, Y_validation = train_test_split(Y_tr, test_size=0.2, random_state=21)\n",
    "    del X_tr\n",
    "    del Y_tr\n",
    "    forest = RandomForestClassifier(bootstrap=True, class_weight=None, criterion=criterion,\n",
    "            max_depth=None, max_features=max_features, max_leaf_nodes=None,\n",
    "            min_samples_leaf=1, min_samples_split=2,\n",
    "            min_weight_fraction_leaf=0.0, n_estimators=n_estimators, n_jobs=-1,\n",
    "            oob_score=False, random_state=21, verbose=0,\n",
    "            warm_start=False)\n",
    "    forest.fit(X_train,Y_train)\n",
    "    forest_pred = forest.predict(X_validation)\n",
    "    d.append((roc_auc_score(Y_validation,forest_pred),X_train,X_test,Y_train,Y_test))"
   ]
  },
  {
   "cell_type": "code",
   "execution_count": 50,
   "metadata": {
    "collapsed": false
   },
   "outputs": [
    {
     "name": "stdout",
     "output_type": "stream",
     "text": [
      "0.803121797463\n"
     ]
    }
   ],
   "source": [
    "print sorted(d, key=lambda tup: tup[0])[-1][0]"
   ]
  },
  {
   "cell_type": "markdown",
   "metadata": {},
   "source": [
    "***Using more forest estimators increases AUC to 80%.***"
   ]
  },
  {
   "cell_type": "code",
   "execution_count": 60,
   "metadata": {
    "collapsed": false
   },
   "outputs": [
    {
     "name": "stdout",
     "output_type": "stream",
     "text": [
      "0.992037601408\n"
     ]
    }
   ],
   "source": [
    "print accuracy_score(Y_test,forest.predict(X_test))"
   ]
  },
  {
   "cell_type": "code",
   "execution_count": 52,
   "metadata": {
    "collapsed": false
   },
   "outputs": [
    {
     "name": "stderr",
     "output_type": "stream",
     "text": [
      "/anaconda/lib/python2.7/site-packages/ipykernel/__main__.py:1: SettingWithCopyWarning: \n",
      "A value is trying to be set on a copy of a slice from a DataFrame.\n",
      "Try using .loc[row_indexer,col_indexer] = value instead\n",
      "\n",
      "See the caveats in the documentation: http://pandas.pydata.org/pandas-docs/stable/indexing.html#indexing-view-versus-copy\n",
      "  if __name__ == '__main__':\n"
     ]
    }
   ],
   "source": [
    "Data_filt['LabelsRF'] = forest.predict(X)"
   ]
  },
  {
   "cell_type": "code",
   "execution_count": 53,
   "metadata": {
    "collapsed": false
   },
   "outputs": [
    {
     "name": "stdout",
     "output_type": "stream",
     "text": [
      "[[275592    548]\n",
      " [   982   2446]]\n"
     ]
    }
   ],
   "source": [
    "print confusion_matrix(Y, Data_filt['LabelsRF'])"
   ]
  },
  {
   "cell_type": "code",
   "execution_count": 54,
   "metadata": {
    "collapsed": false
   },
   "outputs": [
    {
     "data": {
      "text/plain": [
       "0    276574\n",
       "1      2994\n",
       "Name: LabelsRF, dtype: int64"
      ]
     },
     "execution_count": 54,
     "metadata": {},
     "output_type": "execute_result"
    }
   ],
   "source": [
    "Data_filt.LabelsRF.value_counts()"
   ]
  },
  {
   "cell_type": "code",
   "execution_count": 62,
   "metadata": {
    "collapsed": false
   },
   "outputs": [
    {
     "name": "stdout",
     "output_type": "stream",
     "text": [
      "Index([u'BusStop', u'Lot', u'Park', u'Population', u'Street', u'Trash',\n",
      "       u'Water'],\n",
      "      dtype='object')\n",
      "[ 0.18132959  0.14441587  0.12725184  0.04284686  0.14916111  0.19986581\n",
      "  0.15512892]\n"
     ]
    }
   ],
   "source": [
    "print X.columns\n",
    "print forest.feature_importances_"
   ]
  },
  {
   "cell_type": "code",
   "execution_count": 55,
   "metadata": {
    "collapsed": false,
    "scrolled": false
   },
   "outputs": [
    {
     "data": {
      "image/png": "[encoded data removed]",
      "text/plain": [
       "<matplotlib.figure.Figure at 0x1431218d0>"
      ]
     },
     "metadata": {},
     "output_type": "display_data"
    }
   ],
   "source": [
    "#0 disease, 1 no disease, 2 outside singapore \n",
    "matrix = np.zeros((m,n))+2\n",
    "for M in Data_filt.index:\n",
    "    i=original_index_dict[M]['i']\n",
    "    j=original_index_dict[M]['j']\n",
    "    matrix[i][j]=Data_filt.LabelsRF[M]\n",
    "m_l=matrix.tolist()\n",
    "fig, ax = subplots(figsize=(12, 12))\n",
    "plt.imshow(m_l, interpolation='nearest', cmap='hot', extent=(0.5,10.5,0.5,10.5))\n",
    "plt.colorbar()\n",
    "plt.savefig('RF.png')"
   ]
  }
 ],
 "metadata": {
  "kernelspec": {
   "display_name": "Python 2",
   "language": "python",
   "name": "python2"
  },
  "language_info": {
   "codemirror_mode": {
    "name": "ipython",
    "version": 2
   },
   "file_extension": ".py",
   "mimetype": "text/x-python",
   "name": "python",
   "nbconvert_exporter": "python",
   "pygments_lexer": "ipython2",
   "version": "2.7.11"
  }
 },
 "nbformat": 4,
 "nbformat_minor": 0
}
