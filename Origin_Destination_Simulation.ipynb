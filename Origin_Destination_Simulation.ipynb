{
 "cells": [
  {
   "cell_type": "code",
   "execution_count": 1,
   "metadata": {
    "collapsed": false
   },
   "outputs": [],
   "source": [
    "import pandas as pd\n",
    "import geopandas as gpd\n",
    "import numpy as np\n",
    "from math import cos, sin, asin, sqrt, radians\n",
    "import itertools\n",
    "%matplotlib inline"
   ]
  },
  {
   "cell_type": "code",
   "execution_count": 2,
   "metadata": {
    "collapsed": false
   },
   "outputs": [],
   "source": [
    "# Link to file: https://www.dropbox.com/s/l4ej7s0r3nfs0js/centroids_planning_areas.geojson?dl=0\n",
    "df = gpd.GeoDataFrame.from_file ('Data/Raw Data/shapefile/44/centroids_planning_areas.geojson')\n",
    "df.index = df.FID\n",
    "df.index.name = None"
   ]
  },
  {
   "cell_type": "code",
   "execution_count": 7,
   "metadata": {
    "collapsed": false
   },
   "outputs": [
    {
     "data": {
      "text/plain": [
       "Index([u'FID', u'Latitude', u'Longitude', u'Planning_A', u'geometry'], dtype='object')"
      ]
     },
     "execution_count": 7,
     "metadata": {},
     "output_type": "execute_result"
    }
   ],
   "source": [
    "df.columns"
   ]
  },
  {
   "cell_type": "code",
   "execution_count": 3,
   "metadata": {
    "collapsed": false
   },
   "outputs": [],
   "source": [
    "d = {}\n",
    "for i in df.FID.values:\n",
    "    d[i] = df.Planning_A.iloc[i]"
   ]
  },
  {
   "cell_type": "code",
   "execution_count": 4,
   "metadata": {
    "collapsed": false
   },
   "outputs": [
    {
     "data": {
      "text/html": [
       "<div>\n",
       "<table border=\"1\" class=\"dataframe\">\n",
       "  <thead>\n",
       "    <tr style=\"text-align: right;\">\n",
       "      <th></th>\n",
       "      <th>0</th>\n",
       "      <th>1</th>\n",
       "      <th>2</th>\n",
       "      <th>3</th>\n",
       "      <th>4</th>\n",
       "      <th>5</th>\n",
       "      <th>6</th>\n",
       "      <th>7</th>\n",
       "      <th>8</th>\n",
       "      <th>9</th>\n",
       "      <th>...</th>\n",
       "      <th>45</th>\n",
       "      <th>46</th>\n",
       "      <th>47</th>\n",
       "      <th>48</th>\n",
       "      <th>49</th>\n",
       "      <th>50</th>\n",
       "      <th>51</th>\n",
       "      <th>52</th>\n",
       "      <th>53</th>\n",
       "      <th>54</th>\n",
       "    </tr>\n",
       "  </thead>\n",
       "  <tbody>\n",
       "    <tr>\n",
       "      <th>0</th>\n",
       "      <td>0</td>\n",
       "      <td>14</td>\n",
       "      <td>5</td>\n",
       "      <td>21</td>\n",
       "      <td>17</td>\n",
       "      <td>13</td>\n",
       "      <td>14</td>\n",
       "      <td>14</td>\n",
       "      <td>10</td>\n",
       "      <td>22</td>\n",
       "      <td>...</td>\n",
       "      <td>11</td>\n",
       "      <td>16</td>\n",
       "      <td>12</td>\n",
       "      <td>26</td>\n",
       "      <td>6</td>\n",
       "      <td>30</td>\n",
       "      <td>31</td>\n",
       "      <td>21</td>\n",
       "      <td>10</td>\n",
       "      <td>6</td>\n",
       "    </tr>\n",
       "    <tr>\n",
       "      <th>1</th>\n",
       "      <td>15</td>\n",
       "      <td>0</td>\n",
       "      <td>14</td>\n",
       "      <td>23</td>\n",
       "      <td>19</td>\n",
       "      <td>13</td>\n",
       "      <td>16</td>\n",
       "      <td>15</td>\n",
       "      <td>25</td>\n",
       "      <td>11</td>\n",
       "      <td>...</td>\n",
       "      <td>20</td>\n",
       "      <td>6</td>\n",
       "      <td>13</td>\n",
       "      <td>26</td>\n",
       "      <td>10</td>\n",
       "      <td>33</td>\n",
       "      <td>31</td>\n",
       "      <td>24</td>\n",
       "      <td>22</td>\n",
       "      <td>18</td>\n",
       "    </tr>\n",
       "    <tr>\n",
       "      <th>2</th>\n",
       "      <td>6</td>\n",
       "      <td>13</td>\n",
       "      <td>0</td>\n",
       "      <td>18</td>\n",
       "      <td>15</td>\n",
       "      <td>13</td>\n",
       "      <td>12</td>\n",
       "      <td>11</td>\n",
       "      <td>15</td>\n",
       "      <td>22</td>\n",
       "      <td>...</td>\n",
       "      <td>14</td>\n",
       "      <td>15</td>\n",
       "      <td>10</td>\n",
       "      <td>21</td>\n",
       "      <td>6</td>\n",
       "      <td>29</td>\n",
       "      <td>27</td>\n",
       "      <td>20</td>\n",
       "      <td>13</td>\n",
       "      <td>10</td>\n",
       "    </tr>\n",
       "    <tr>\n",
       "      <th>3</th>\n",
       "      <td>22</td>\n",
       "      <td>23</td>\n",
       "      <td>18</td>\n",
       "      <td>0</td>\n",
       "      <td>10</td>\n",
       "      <td>12</td>\n",
       "      <td>13</td>\n",
       "      <td>13</td>\n",
       "      <td>29</td>\n",
       "      <td>28</td>\n",
       "      <td>...</td>\n",
       "      <td>17</td>\n",
       "      <td>24</td>\n",
       "      <td>13</td>\n",
       "      <td>15</td>\n",
       "      <td>18</td>\n",
       "      <td>15</td>\n",
       "      <td>11</td>\n",
       "      <td>10</td>\n",
       "      <td>19</td>\n",
       "      <td>21</td>\n",
       "    </tr>\n",
       "    <tr>\n",
       "      <th>4</th>\n",
       "      <td>19</td>\n",
       "      <td>19</td>\n",
       "      <td>14</td>\n",
       "      <td>12</td>\n",
       "      <td>0</td>\n",
       "      <td>13</td>\n",
       "      <td>5</td>\n",
       "      <td>10</td>\n",
       "      <td>26</td>\n",
       "      <td>27</td>\n",
       "      <td>...</td>\n",
       "      <td>11</td>\n",
       "      <td>21</td>\n",
       "      <td>13</td>\n",
       "      <td>13</td>\n",
       "      <td>15</td>\n",
       "      <td>21</td>\n",
       "      <td>20</td>\n",
       "      <td>12</td>\n",
       "      <td>14</td>\n",
       "      <td>17</td>\n",
       "    </tr>\n",
       "  </tbody>\n",
       "</table>\n",
       "<p>5 rows × 55 columns</p>\n",
       "</div>"
      ],
      "text/plain": [
       "    0   1   2   3   4   5   6   7   8   9 ...  45  46  47  48  49  50  51  52  \\\n",
       "0   0  14   5  21  17  13  14  14  10  22 ...  11  16  12  26   6  30  31  21   \n",
       "1  15   0  14  23  19  13  16  15  25  11 ...  20   6  13  26  10  33  31  24   \n",
       "2   6  13   0  18  15  13  12  11  15  22 ...  14  15  10  21   6  29  27  20   \n",
       "3  22  23  18   0  10  12  13  13  29  28 ...  17  24  13  15  18  15  11  10   \n",
       "4  19  19  14  12   0  13   5  10  26  27 ...  11  21  13  13  15  21  20  12   \n",
       "\n",
       "   53  54  \n",
       "0  10   6  \n",
       "1  22  18  \n",
       "2  13  10  \n",
       "3  19  21  \n",
       "4  14  17  \n",
       "\n",
       "[5 rows x 55 columns]"
      ]
     },
     "execution_count": 4,
     "metadata": {},
     "output_type": "execute_result"
    }
   ],
   "source": [
    "times_between_areas=pd.read_csv('https://www.dropbox.com/s/lkpdetlefpsm8bw/times.csv?dl=1')\n",
    "times_between_areas.drop('Unnamed: 0', axis=1, inplace=True)\n",
    "times_between_areas.head()"
   ]
  },
  {
   "cell_type": "code",
   "execution_count": 5,
   "metadata": {
    "collapsed": false
   },
   "outputs": [
    {
     "data": {
      "text/html": [
       "<div>\n",
       "<table border=\"1\" class=\"dataframe\">\n",
       "  <thead>\n",
       "    <tr style=\"text-align: right;\">\n",
       "      <th></th>\n",
       "      <th>Planning_A</th>\n",
       "      <th>Up to 15 mins</th>\n",
       "      <th>16 - 30 mins</th>\n",
       "      <th>31 - 45 mins</th>\n",
       "      <th>46 - 60 mins</th>\n",
       "      <th>More than 60 mins</th>\n",
       "      <th>No_transport</th>\n",
       "      <th>TOTAL</th>\n",
       "    </tr>\n",
       "  </thead>\n",
       "  <tbody>\n",
       "    <tr>\n",
       "      <th>0</th>\n",
       "      <td>ANG MO KIO</td>\n",
       "      <td>16.2</td>\n",
       "      <td>32.4</td>\n",
       "      <td>23.6</td>\n",
       "      <td>18.1</td>\n",
       "      <td>7.7</td>\n",
       "      <td>10.3</td>\n",
       "      <td>108.3</td>\n",
       "    </tr>\n",
       "    <tr>\n",
       "      <th>1</th>\n",
       "      <td>BEDOK</td>\n",
       "      <td>23.7</td>\n",
       "      <td>56.8</td>\n",
       "      <td>30.4</td>\n",
       "      <td>26.2</td>\n",
       "      <td>9.1</td>\n",
       "      <td>12.6</td>\n",
       "      <td>158.8</td>\n",
       "    </tr>\n",
       "    <tr>\n",
       "      <th>2</th>\n",
       "      <td>BISHAN</td>\n",
       "      <td>5.8</td>\n",
       "      <td>19.2</td>\n",
       "      <td>12.7</td>\n",
       "      <td>7.9</td>\n",
       "      <td>2.0</td>\n",
       "      <td>3.6</td>\n",
       "      <td>51.2</td>\n",
       "    </tr>\n",
       "    <tr>\n",
       "      <th>3</th>\n",
       "      <td>BUKIT BATOK</td>\n",
       "      <td>9.2</td>\n",
       "      <td>25.7</td>\n",
       "      <td>16.2</td>\n",
       "      <td>16.0</td>\n",
       "      <td>6.7</td>\n",
       "      <td>6.1</td>\n",
       "      <td>79.9</td>\n",
       "    </tr>\n",
       "    <tr>\n",
       "      <th>4</th>\n",
       "      <td>BUKIT MERAH</td>\n",
       "      <td>16.8</td>\n",
       "      <td>37.1</td>\n",
       "      <td>12.1</td>\n",
       "      <td>10.4</td>\n",
       "      <td>4.1</td>\n",
       "      <td>8.5</td>\n",
       "      <td>89.0</td>\n",
       "    </tr>\n",
       "  </tbody>\n",
       "</table>\n",
       "</div>"
      ],
      "text/plain": [
       "    Planning_A  Up to 15 mins   16 - 30 mins   31 - 45 mins   46 - 60 mins   \\\n",
       "0   ANG MO KIO            16.2           32.4           23.6           18.1   \n",
       "1        BEDOK            23.7           56.8           30.4           26.2   \n",
       "2       BISHAN             5.8           19.2           12.7            7.9   \n",
       "3  BUKIT BATOK             9.2           25.7           16.2           16.0   \n",
       "4  BUKIT MERAH            16.8           37.1           12.1           10.4   \n",
       "\n",
       "   More than 60 mins   No_transport  TOTAL  \n",
       "0                 7.7          10.3  108.3  \n",
       "1                 9.1          12.6  158.8  \n",
       "2                 2.0           3.6   51.2  \n",
       "3                 6.7           6.1   79.9  \n",
       "4                 4.1           8.5   89.0  "
      ]
     },
     "execution_count": 5,
     "metadata": {},
     "output_type": "execute_result"
    }
   ],
   "source": [
    "travel_patterns = pd.read_csv('https://www.dropbox.com/s/l1vm18b90yz09yk/travel_patterns_processd.csv?dl=1')\n",
    "travel_patterns.rename(columns={'Unnamed: 0': 'Planning_A'}, inplace=True)\n",
    "travel_patterns.head()"
   ]
  },
  {
   "cell_type": "markdown",
   "metadata": {},
   "source": [
    "***Adding those Planning Areas that are not in the travel_pattern data. Substitute their value using \"OTHERS\".***"
   ]
  },
  {
   "cell_type": "code",
   "execution_count": 8,
   "metadata": {
    "collapsed": true
   },
   "outputs": [],
   "source": [
    "key_planning_area = df[['FID','Planning_A']]"
   ]
  },
  {
   "cell_type": "code",
   "execution_count": 9,
   "metadata": {
    "collapsed": false
   },
   "outputs": [
    {
     "data": {
      "text/plain": [
       "Index([        u'Planning_A',     u'Up to 15 mins ',      u'16 - 30 mins ',\n",
       "            u'31 - 45 mins ',      u'46 - 60 mins ', u'More than 60 mins ',\n",
       "             u'No_transport',              u'TOTAL',                u'FID'],\n",
       "      dtype='object')"
      ]
     },
     "execution_count": 9,
     "metadata": {},
     "output_type": "execute_result"
    }
   ],
   "source": [
    "areas = list(travel_patterns.Planning_A.values)\n",
    "tv = list(travel_patterns.as_matrix())\n",
    "for i in np.unique(df.Planning_A.values):\n",
    "    if i not in areas:\n",
    "        new_row = np.insert(np.array(travel_patterns.ix[28].values[1:]),obj=0,values=i)# Contains info for \"OTHER\" planning areas: travel_patterns['Planning_A'].ix[28]\n",
    "        tv.append(new_row)\n",
    "tv = pd.DataFrame(tv,columns=travel_patterns.columns)\n",
    "travel_with_labels = pd.merge(tv,key_planning_area,on=['Planning_A'],how='inner')\n",
    "travel_with_labels.columns        "
   ]
  },
  {
   "cell_type": "code",
   "execution_count": 10,
   "metadata": {
    "collapsed": false
   },
   "outputs": [],
   "source": [
    "def get_pairs(column,a,b):\n",
    "    list_ = []\n",
    "    for i,j in itertools.product(times_between_areas.index.values,times_between_areas.columns.values):\n",
    "        i = int(i)\n",
    "        j = int(j)\n",
    "        if i != j:\n",
    "            if (times_between_areas.iloc[i,j]>a)&(times_between_areas.iloc[i,j]<=b):\n",
    "                list_.append((i,j,travel_with_labels[travel_with_labels['FID']==i][column].values[0]))\n",
    "            else:\n",
    "                pass \n",
    "        else:\n",
    "            pass\n",
    "    column = column.strip()\n",
    "    return pd.DataFrame(list_,columns=('FID_origin','FID_destination',column))    "
   ]
  },
  {
   "cell_type": "code",
   "execution_count": 11,
   "metadata": {
    "collapsed": true
   },
   "outputs": [],
   "source": [
    "min15 = get_pairs('Up to 15 mins ',0,15)\n",
    "min30 = get_pairs('16 - 30 mins ',15,30)\n",
    "min45 = get_pairs('31 - 45 mins ',30,45)\n",
    "min60 = get_pairs('46 - 60 mins ',45,60)\n",
    "max60 = get_pairs('More than 60 mins ',60,100000)"
   ]
  },
  {
   "cell_type": "code",
   "execution_count": 21,
   "metadata": {
    "collapsed": false
   },
   "outputs": [],
   "source": [
    "min15['FID_origin_Name'] = min15['FID_origin'].apply(lambda x: str(x).replace(str(x), d[int(x)]))\n",
    "min30['FID_origin_Name'] = min30['FID_origin'].apply(lambda x: str(x).replace(str(x), d[int(x)]))\n",
    "min45['FID_origin_Name'] = min45['FID_origin'].apply(lambda x: str(x).replace(str(x), d[int(x)]))\n",
    "min60['FID_origin_Name'] = min60['FID_origin'].apply(lambda x: str(x).replace(str(x), d[int(x)]))\n",
    "max60['FID_origin_Name'] = max60['FID_origin'].apply(lambda x: str(x).replace(str(x), d[int(x)]))"
   ]
  },
  {
   "cell_type": "code",
   "execution_count": 24,
   "metadata": {
    "collapsed": false
   },
   "outputs": [],
   "source": [
    "min15['FID_destination_Name'] = min15['FID_destination'].apply(lambda x: str(x).replace(str(x), d[int(x)]))\n",
    "min30['FID_destination_Name'] = min30['FID_destination'].apply(lambda x: str(x).replace(str(x), d[int(x)]))\n",
    "min45['FID_destination_Name'] = min45['FID_destination'].apply(lambda x: str(x).replace(str(x), d[int(x)]))\n",
    "min60['FID_destination_Name'] = min60['FID_destination'].apply(lambda x: str(x).replace(str(x), d[int(x)]))\n",
    "max60['FID_destination_Name'] = max60['FID_destination'].apply(lambda x: str(x).replace(str(x), d[int(x)]))"
   ]
  },
  {
   "cell_type": "code",
   "execution_count": 30,
   "metadata": {
    "collapsed": false
   },
   "outputs": [],
   "source": [
    "def rename_col(x):\n",
    "    x.columns = ['FID_origin', 'FID_destination', 'People_in_Transit_per_1000', 'FID_origin_Name',\n",
    "       'FID_destination_Name']\n",
    "    return x"
   ]
  },
  {
   "cell_type": "code",
   "execution_count": 31,
   "metadata": {
    "collapsed": true
   },
   "outputs": [],
   "source": [
    "data = pd.concat([rename_col(min15),rename_col(min30),rename_col(min45),rename_col(min60),rename_col(max60)],axis=0)"
   ]
  },
  {
   "cell_type": "code",
   "execution_count": 32,
   "metadata": {
    "collapsed": false
   },
   "outputs": [
    {
     "data": {
      "text/html": [
       "<div>\n",
       "<table border=\"1\" class=\"dataframe\">\n",
       "  <thead>\n",
       "    <tr style=\"text-align: right;\">\n",
       "      <th></th>\n",
       "      <th>FID_origin</th>\n",
       "      <th>FID_destination</th>\n",
       "      <th>People_in_Transit_per_1000</th>\n",
       "      <th>FID_origin_Name</th>\n",
       "      <th>FID_destination_Name</th>\n",
       "    </tr>\n",
       "  </thead>\n",
       "  <tbody>\n",
       "    <tr>\n",
       "      <th>0</th>\n",
       "      <td>0.0</td>\n",
       "      <td>1.0</td>\n",
       "      <td>16.2</td>\n",
       "      <td>ANG MO KIO</td>\n",
       "      <td>BEDOK</td>\n",
       "    </tr>\n",
       "    <tr>\n",
       "      <th>1</th>\n",
       "      <td>0.0</td>\n",
       "      <td>2.0</td>\n",
       "      <td>16.2</td>\n",
       "      <td>ANG MO KIO</td>\n",
       "      <td>BISHAN</td>\n",
       "    </tr>\n",
       "    <tr>\n",
       "      <th>2</th>\n",
       "      <td>0.0</td>\n",
       "      <td>5.0</td>\n",
       "      <td>16.2</td>\n",
       "      <td>ANG MO KIO</td>\n",
       "      <td>BUKIT MERAH</td>\n",
       "    </tr>\n",
       "    <tr>\n",
       "      <th>3</th>\n",
       "      <td>0.0</td>\n",
       "      <td>6.0</td>\n",
       "      <td>16.2</td>\n",
       "      <td>ANG MO KIO</td>\n",
       "      <td>BUKIT PANJANG</td>\n",
       "    </tr>\n",
       "    <tr>\n",
       "      <th>4</th>\n",
       "      <td>0.0</td>\n",
       "      <td>7.0</td>\n",
       "      <td>16.2</td>\n",
       "      <td>ANG MO KIO</td>\n",
       "      <td>BUKIT TIMAH</td>\n",
       "    </tr>\n",
       "  </tbody>\n",
       "</table>\n",
       "</div>"
      ],
      "text/plain": [
       "   FID_origin  FID_destination  People_in_Transit_per_1000 FID_origin_Name  \\\n",
       "0         0.0              1.0                        16.2      ANG MO KIO   \n",
       "1         0.0              2.0                        16.2      ANG MO KIO   \n",
       "2         0.0              5.0                        16.2      ANG MO KIO   \n",
       "3         0.0              6.0                        16.2      ANG MO KIO   \n",
       "4         0.0              7.0                        16.2      ANG MO KIO   \n",
       "\n",
       "  FID_destination_Name  \n",
       "0                BEDOK  \n",
       "1               BISHAN  \n",
       "2          BUKIT MERAH  \n",
       "3        BUKIT PANJANG  \n",
       "4          BUKIT TIMAH  "
      ]
     },
     "execution_count": 32,
     "metadata": {},
     "output_type": "execute_result"
    }
   ],
   "source": [
    "data.head()"
   ]
  },
  {
   "cell_type": "code",
   "execution_count": 34,
   "metadata": {
    "collapsed": false
   },
   "outputs": [],
   "source": [
    "population_by_age = pd.read_csv('https://www.dropbox.com/s/bhd8j7a8sxkssfc/POP2015.csv?dl=1')"
   ]
  },
  {
   "cell_type": "code",
   "execution_count": 36,
   "metadata": {
    "collapsed": false
   },
   "outputs": [
    {
     "data": {
      "text/plain": [
       "Index([u'Planning_Area', u' Total ', u' 0 - 4 ', u' 5 - 9 ', u' 10 - 14 ',\n",
       "       u' 15 - 19 ', u' 20 - 24 ', u' 25 - 29 ', u' 30 - 34 ', u' 35 - 39 ',\n",
       "       u' 40 - 44 ', u' 45 - 49 ', u' 50 - 54 ', u' 55 - 59 ', u' 60 - 64 ',\n",
       "       u' 65 - 69 ', u' 70 - 74 ', u' 75 - 79 ', u' 80 - 84 ', u' 85 & Over '],\n",
       "      dtype='object')"
      ]
     },
     "execution_count": 36,
     "metadata": {},
     "output_type": "execute_result"
    }
   ],
   "source": [
    "population_by_age.columns"
   ]
  },
  {
   "cell_type": "code",
   "execution_count": 44,
   "metadata": {
    "collapsed": false
   },
   "outputs": [],
   "source": [
    "# Assuming that all age groups are travelling according to the census data => Use total population\n",
    "# Prepare for merger\n",
    "def upper_case(df):\n",
    "    # Delete observations not containing TOTAL if a TOTAl observation exists\n",
    "    df['Planning_Area'] = df['Planning_Area'].apply(lambda x: x.replace('-','').upper().replace('TOTAL','').strip())\n",
    "    df = df.drop_duplicates(subset='Planning_Area')\n",
    "    df = df.fillna(np.nan)\n",
    "    return df\n",
    "\n",
    "population_by_age = upper_case(population_by_age)"
   ]
  },
  {
   "cell_type": "code",
   "execution_count": 45,
   "metadata": {
    "collapsed": false
   },
   "outputs": [
    {
     "data": {
      "text/html": [
       "<div>\n",
       "<table border=\"1\" class=\"dataframe\">\n",
       "  <thead>\n",
       "    <tr style=\"text-align: right;\">\n",
       "      <th></th>\n",
       "      <th>Planning_Area</th>\n",
       "      <th>Total</th>\n",
       "      <th>0 - 4</th>\n",
       "      <th>5 - 9</th>\n",
       "      <th>10 - 14</th>\n",
       "      <th>15 - 19</th>\n",
       "      <th>20 - 24</th>\n",
       "      <th>25 - 29</th>\n",
       "      <th>30 - 34</th>\n",
       "      <th>35 - 39</th>\n",
       "      <th>40 - 44</th>\n",
       "      <th>45 - 49</th>\n",
       "      <th>50 - 54</th>\n",
       "      <th>55 - 59</th>\n",
       "      <th>60 - 64</th>\n",
       "      <th>65 - 69</th>\n",
       "      <th>70 - 74</th>\n",
       "      <th>75 - 79</th>\n",
       "      <th>80 - 84</th>\n",
       "      <th>85 &amp; Over</th>\n",
       "    </tr>\n",
       "  </thead>\n",
       "  <tbody>\n",
       "    <tr>\n",
       "      <th>0</th>\n",
       "      <td></td>\n",
       "      <td>3902690</td>\n",
       "      <td>183580</td>\n",
       "      <td>204450</td>\n",
       "      <td>214390</td>\n",
       "      <td>242900</td>\n",
       "      <td>264130</td>\n",
       "      <td>271030</td>\n",
       "      <td>290620</td>\n",
       "      <td>301070</td>\n",
       "      <td>316760</td>\n",
       "      <td>303410</td>\n",
       "      <td>315090</td>\n",
       "      <td>295060</td>\n",
       "      <td>240490</td>\n",
       "      <td>182430</td>\n",
       "      <td>102630</td>\n",
       "      <td>81210</td>\n",
       "      <td>51790</td>\n",
       "      <td>41660</td>\n",
       "    </tr>\n",
       "    <tr>\n",
       "      <th>1</th>\n",
       "      <td>ANG MO KIO</td>\n",
       "      <td>174770</td>\n",
       "      <td>6790</td>\n",
       "      <td>7660</td>\n",
       "      <td>8290</td>\n",
       "      <td>9320</td>\n",
       "      <td>10310</td>\n",
       "      <td>11170</td>\n",
       "      <td>12250</td>\n",
       "      <td>13070</td>\n",
       "      <td>13710</td>\n",
       "      <td>13000</td>\n",
       "      <td>14010</td>\n",
       "      <td>13800</td>\n",
       "      <td>12980</td>\n",
       "      <td>11050</td>\n",
       "      <td>6670</td>\n",
       "      <td>5140</td>\n",
       "      <td>3250</td>\n",
       "      <td>2300</td>\n",
       "    </tr>\n",
       "  </tbody>\n",
       "</table>\n",
       "</div>"
      ],
      "text/plain": [
       "  Planning_Area   Total   0 - 4   5 - 9   10 - 14   15 - 19   20 - 24   \\\n",
       "0                3902690  183580  204450    214390    242900    264130   \n",
       "1    ANG MO KIO   174770    6790    7660      8290      9320     10310   \n",
       "\n",
       "   25 - 29   30 - 34   35 - 39   40 - 44   45 - 49   50 - 54   55 - 59   \\\n",
       "0    271030    290620    301070    316760    303410    315090    295060   \n",
       "1     11170     12250     13070     13710     13000     14010     13800   \n",
       "\n",
       "   60 - 64   65 - 69   70 - 74   75 - 79   80 - 84   85 & Over   \n",
       "0    240490    182430    102630     81210     51790       41660  \n",
       "1     12980     11050      6670      5140      3250        2300  "
      ]
     },
     "execution_count": 45,
     "metadata": {},
     "output_type": "execute_result"
    }
   ],
   "source": [
    "# Ignore first row => gives total figures across all of Singapore\n",
    "population_by_age.head(2)"
   ]
  },
  {
   "cell_type": "code",
   "execution_count": 48,
   "metadata": {
    "collapsed": false
   },
   "outputs": [],
   "source": [
    "for col in list(population_by_age.columns)[1:]:\n",
    "    population_by_age[col] = np.where(population_by_age[col].apply(lambda x: x=='  '),np.nan,population_by_age[col])\n",
    "    population_by_age[col] = population_by_age[col].astype(float)"
   ]
  },
  {
   "cell_type": "code",
   "execution_count": 49,
   "metadata": {
    "collapsed": false
   },
   "outputs": [
    {
     "name": "stderr",
     "output_type": "stream",
     "text": [
      "/anaconda/lib/python2.7/site-packages/ipykernel/__main__.py:2: SettingWithCopyWarning: \n",
      "A value is trying to be set on a copy of a slice from a DataFrame.\n",
      "Try using .loc[row_indexer,col_indexer] = value instead\n",
      "\n",
      "See the caveats in the documentation: http://pandas.pydata.org/pandas-docs/stable/indexing.html#indexing-view-versus-copy\n",
      "  from ipykernel import kernelapp as app\n"
     ]
    }
   ],
   "source": [
    "population = population_by_age[[' Total ','Planning_Area']]\n",
    "population['Total/1000'] = population[' Total '].astype(float)/1000"
   ]
  },
  {
   "cell_type": "code",
   "execution_count": 57,
   "metadata": {
    "collapsed": false
   },
   "outputs": [
    {
     "data": {
      "text/plain": [
       "Index([u'FID_origin', u'FID_destination', u'People_in_Transit_per_1000',\n",
       "       u'FID_origin_Name', u'FID_destination_Name'],\n",
       "      dtype='object')"
      ]
     },
     "execution_count": 57,
     "metadata": {},
     "output_type": "execute_result"
    }
   ],
   "source": [
    "data.columns"
   ]
  },
  {
   "cell_type": "code",
   "execution_count": 63,
   "metadata": {
    "collapsed": false
   },
   "outputs": [],
   "source": [
    "dt = data.merge(population.rename(columns={'Planning_Area':'FID_origin_Name'}),\n",
    "on='FID_origin_Name',how='left').rename(columns={' Total ':'FID_origin_pop',\n",
    "'Total/1000':'FID_origin_pop/1000'}).merge(population.rename(columns={'Planning_Area':'FID_destination_Name'}),\n",
    "how='left',on='FID_destination_Name').rename(columns={' Total ':'FID_destination_pop',\n",
    "'Total/1000':'FID_destination_pop/1000'})"
   ]
  },
  {
   "cell_type": "code",
   "execution_count": 64,
   "metadata": {
    "collapsed": false
   },
   "outputs": [
    {
     "data": {
      "text/html": [
       "<div>\n",
       "<table border=\"1\" class=\"dataframe\">\n",
       "  <thead>\n",
       "    <tr style=\"text-align: right;\">\n",
       "      <th></th>\n",
       "      <th>FID_origin</th>\n",
       "      <th>FID_destination</th>\n",
       "      <th>People_in_Transit_per_1000</th>\n",
       "      <th>FID_origin_Name</th>\n",
       "      <th>FID_destination_Name</th>\n",
       "      <th>FID_origin_pop</th>\n",
       "      <th>FID_origin_pop/1000</th>\n",
       "      <th>FID_destination_pop</th>\n",
       "      <th>FID_destination_pop/1000</th>\n",
       "    </tr>\n",
       "  </thead>\n",
       "  <tbody>\n",
       "    <tr>\n",
       "      <th>0</th>\n",
       "      <td>0.0</td>\n",
       "      <td>1.0</td>\n",
       "      <td>16.2</td>\n",
       "      <td>ANG MO KIO</td>\n",
       "      <td>BEDOK</td>\n",
       "      <td>174770.0</td>\n",
       "      <td>174.77</td>\n",
       "      <td>289750.0</td>\n",
       "      <td>289.75</td>\n",
       "    </tr>\n",
       "    <tr>\n",
       "      <th>1</th>\n",
       "      <td>0.0</td>\n",
       "      <td>2.0</td>\n",
       "      <td>16.2</td>\n",
       "      <td>ANG MO KIO</td>\n",
       "      <td>BISHAN</td>\n",
       "      <td>174770.0</td>\n",
       "      <td>174.77</td>\n",
       "      <td>90700.0</td>\n",
       "      <td>90.70</td>\n",
       "    </tr>\n",
       "    <tr>\n",
       "      <th>2</th>\n",
       "      <td>0.0</td>\n",
       "      <td>5.0</td>\n",
       "      <td>16.2</td>\n",
       "      <td>ANG MO KIO</td>\n",
       "      <td>BUKIT MERAH</td>\n",
       "      <td>174770.0</td>\n",
       "      <td>174.77</td>\n",
       "      <td>155840.0</td>\n",
       "      <td>155.84</td>\n",
       "    </tr>\n",
       "    <tr>\n",
       "      <th>3</th>\n",
       "      <td>0.0</td>\n",
       "      <td>6.0</td>\n",
       "      <td>16.2</td>\n",
       "      <td>ANG MO KIO</td>\n",
       "      <td>BUKIT PANJANG</td>\n",
       "      <td>174770.0</td>\n",
       "      <td>174.77</td>\n",
       "      <td>139030.0</td>\n",
       "      <td>139.03</td>\n",
       "    </tr>\n",
       "    <tr>\n",
       "      <th>4</th>\n",
       "      <td>0.0</td>\n",
       "      <td>7.0</td>\n",
       "      <td>16.2</td>\n",
       "      <td>ANG MO KIO</td>\n",
       "      <td>BUKIT TIMAH</td>\n",
       "      <td>174770.0</td>\n",
       "      <td>174.77</td>\n",
       "      <td>74470.0</td>\n",
       "      <td>74.47</td>\n",
       "    </tr>\n",
       "  </tbody>\n",
       "</table>\n",
       "</div>"
      ],
      "text/plain": [
       "   FID_origin  FID_destination  People_in_Transit_per_1000 FID_origin_Name  \\\n",
       "0         0.0              1.0                        16.2      ANG MO KIO   \n",
       "1         0.0              2.0                        16.2      ANG MO KIO   \n",
       "2         0.0              5.0                        16.2      ANG MO KIO   \n",
       "3         0.0              6.0                        16.2      ANG MO KIO   \n",
       "4         0.0              7.0                        16.2      ANG MO KIO   \n",
       "\n",
       "  FID_destination_Name  FID_origin_pop  FID_origin_pop/1000  \\\n",
       "0                BEDOK        174770.0               174.77   \n",
       "1               BISHAN        174770.0               174.77   \n",
       "2          BUKIT MERAH        174770.0               174.77   \n",
       "3        BUKIT PANJANG        174770.0               174.77   \n",
       "4          BUKIT TIMAH        174770.0               174.77   \n",
       "\n",
       "   FID_destination_pop  FID_destination_pop/1000  \n",
       "0             289750.0                    289.75  \n",
       "1              90700.0                     90.70  \n",
       "2             155840.0                    155.84  \n",
       "3             139030.0                    139.03  \n",
       "4              74470.0                     74.47  "
      ]
     },
     "execution_count": 64,
     "metadata": {},
     "output_type": "execute_result"
    }
   ],
   "source": [
    "dt.head()"
   ]
  },
  {
   "cell_type": "markdown",
   "metadata": {},
   "source": [
    "People in transit per 1000 are attributed to the Planning Areas of destination with weights from lot density.\n",
    "A more naive way of assigning weights would be to just divide the origin population by the number of destinations."
   ]
  },
  {
   "cell_type": "code",
   "execution_count": 71,
   "metadata": {
    "collapsed": false
   },
   "outputs": [
    {
     "data": {
      "text/plain": [
       "51    52\n",
       "Name: count, dtype: int64"
      ]
     },
     "execution_count": 71,
     "metadata": {},
     "output_type": "execute_result"
    }
   ],
   "source": [
    "# Each Planning Area is part of a pair 51 times.\n",
    "pd.DataFrame({'count':dt.groupby('FID_origin_Name').size()}).reset_index()['count'].value_counts()"
   ]
  },
  {
   "cell_type": "code",
   "execution_count": 80,
   "metadata": {
    "collapsed": false
   },
   "outputs": [
    {
     "data": {
      "text/html": [
       "<div>\n",
       "<table border=\"1\" class=\"dataframe\">\n",
       "  <thead>\n",
       "    <tr style=\"text-align: right;\">\n",
       "      <th></th>\n",
       "      <th>FID_destination_Name</th>\n",
       "      <th>Working_pop</th>\n",
       "    </tr>\n",
       "  </thead>\n",
       "  <tbody>\n",
       "    <tr>\n",
       "      <th>0</th>\n",
       "      <td>ANG MO KIO</td>\n",
       "      <td>1216.637039</td>\n",
       "    </tr>\n",
       "    <tr>\n",
       "      <th>1</th>\n",
       "      <td>BEDOK</td>\n",
       "      <td>1388.224275</td>\n",
       "    </tr>\n",
       "    <tr>\n",
       "      <th>2</th>\n",
       "      <td>BISHAN</td>\n",
       "      <td>1224.792902</td>\n",
       "    </tr>\n",
       "    <tr>\n",
       "      <th>3</th>\n",
       "      <td>BOON LAY</td>\n",
       "      <td>1971.688863</td>\n",
       "    </tr>\n",
       "    <tr>\n",
       "      <th>4</th>\n",
       "      <td>BUKIT BATOK</td>\n",
       "      <td>1799.689647</td>\n",
       "    </tr>\n",
       "    <tr>\n",
       "      <th>5</th>\n",
       "      <td>BUKIT MERAH</td>\n",
       "      <td>1248.393255</td>\n",
       "    </tr>\n",
       "    <tr>\n",
       "      <th>6</th>\n",
       "      <td>BUKIT PANJANG</td>\n",
       "      <td>1497.790196</td>\n",
       "    </tr>\n",
       "    <tr>\n",
       "      <th>7</th>\n",
       "      <td>BUKIT TIMAH</td>\n",
       "      <td>1380.388314</td>\n",
       "    </tr>\n",
       "    <tr>\n",
       "      <th>8</th>\n",
       "      <td>CENTRAL WATER CATCHMENT</td>\n",
       "      <td>2356.098549</td>\n",
       "    </tr>\n",
       "    <tr>\n",
       "      <th>9</th>\n",
       "      <td>CHANGI</td>\n",
       "      <td>1925.992529</td>\n",
       "    </tr>\n",
       "    <tr>\n",
       "      <th>10</th>\n",
       "      <td>CHANGI BAY</td>\n",
       "      <td>2075.744471</td>\n",
       "    </tr>\n",
       "    <tr>\n",
       "      <th>11</th>\n",
       "      <td>CHOA CHU KANG</td>\n",
       "      <td>1684.225843</td>\n",
       "    </tr>\n",
       "    <tr>\n",
       "      <th>12</th>\n",
       "      <td>CLEMENTI</td>\n",
       "      <td>1838.976765</td>\n",
       "    </tr>\n",
       "    <tr>\n",
       "      <th>13</th>\n",
       "      <td>DOWNTOWN CORE</td>\n",
       "      <td>1456.171412</td>\n",
       "    </tr>\n",
       "    <tr>\n",
       "      <th>14</th>\n",
       "      <td>GEYLANG</td>\n",
       "      <td>1370.728706</td>\n",
       "    </tr>\n",
       "    <tr>\n",
       "      <th>15</th>\n",
       "      <td>HOUGANG</td>\n",
       "      <td>1293.124451</td>\n",
       "    </tr>\n",
       "    <tr>\n",
       "      <th>16</th>\n",
       "      <td>JURONG EAST</td>\n",
       "      <td>1869.668745</td>\n",
       "    </tr>\n",
       "    <tr>\n",
       "      <th>17</th>\n",
       "      <td>JURONG WEST</td>\n",
       "      <td>1848.782216</td>\n",
       "    </tr>\n",
       "    <tr>\n",
       "      <th>18</th>\n",
       "      <td>KALLANG</td>\n",
       "      <td>1377.165922</td>\n",
       "    </tr>\n",
       "    <tr>\n",
       "      <th>19</th>\n",
       "      <td>LIM CHU KANG</td>\n",
       "      <td>1970.528412</td>\n",
       "    </tr>\n",
       "    <tr>\n",
       "      <th>20</th>\n",
       "      <td>MANDAI</td>\n",
       "      <td>1593.403137</td>\n",
       "    </tr>\n",
       "    <tr>\n",
       "      <th>21</th>\n",
       "      <td>MARINA EAST</td>\n",
       "      <td>2081.480294</td>\n",
       "    </tr>\n",
       "    <tr>\n",
       "      <th>22</th>\n",
       "      <td>MARINA SOUTH</td>\n",
       "      <td>1478.188000</td>\n",
       "    </tr>\n",
       "    <tr>\n",
       "      <th>23</th>\n",
       "      <td>MARINE PARADE</td>\n",
       "      <td>1395.352725</td>\n",
       "    </tr>\n",
       "    <tr>\n",
       "      <th>24</th>\n",
       "      <td>MUSEUM</td>\n",
       "      <td>1514.850922</td>\n",
       "    </tr>\n",
       "    <tr>\n",
       "      <th>25</th>\n",
       "      <td>NEWTON</td>\n",
       "      <td>1290.932549</td>\n",
       "    </tr>\n",
       "    <tr>\n",
       "      <th>26</th>\n",
       "      <td>NOVENA</td>\n",
       "      <td>1287.689745</td>\n",
       "    </tr>\n",
       "    <tr>\n",
       "      <th>27</th>\n",
       "      <td>ORCHARD</td>\n",
       "      <td>1349.989667</td>\n",
       "    </tr>\n",
       "    <tr>\n",
       "      <th>28</th>\n",
       "      <td>OUTRAM</td>\n",
       "      <td>1396.776686</td>\n",
       "    </tr>\n",
       "    <tr>\n",
       "      <th>29</th>\n",
       "      <td>PASIR RIS</td>\n",
       "      <td>1618.394118</td>\n",
       "    </tr>\n",
       "    <tr>\n",
       "      <th>30</th>\n",
       "      <td>PAYA LEBAR</td>\n",
       "      <td>1465.345098</td>\n",
       "    </tr>\n",
       "    <tr>\n",
       "      <th>31</th>\n",
       "      <td>PIONEER</td>\n",
       "      <td>2004.995667</td>\n",
       "    </tr>\n",
       "    <tr>\n",
       "      <th>32</th>\n",
       "      <td>PUNGGOL</td>\n",
       "      <td>1558.364373</td>\n",
       "    </tr>\n",
       "    <tr>\n",
       "      <th>33</th>\n",
       "      <td>QUEENSTOWN</td>\n",
       "      <td>1700.347980</td>\n",
       "    </tr>\n",
       "    <tr>\n",
       "      <th>34</th>\n",
       "      <td>RIVER VALLEY</td>\n",
       "      <td>1335.038706</td>\n",
       "    </tr>\n",
       "    <tr>\n",
       "      <th>35</th>\n",
       "      <td>ROCHOR</td>\n",
       "      <td>1325.722882</td>\n",
       "    </tr>\n",
       "    <tr>\n",
       "      <th>36</th>\n",
       "      <td>SEMBAWANG</td>\n",
       "      <td>1966.830431</td>\n",
       "    </tr>\n",
       "    <tr>\n",
       "      <th>37</th>\n",
       "      <td>SENGKANG</td>\n",
       "      <td>1445.412255</td>\n",
       "    </tr>\n",
       "    <tr>\n",
       "      <th>38</th>\n",
       "      <td>SERANGOON</td>\n",
       "      <td>1314.994078</td>\n",
       "    </tr>\n",
       "    <tr>\n",
       "      <th>39</th>\n",
       "      <td>SINGAPORE RIVER</td>\n",
       "      <td>1455.498039</td>\n",
       "    </tr>\n",
       "    <tr>\n",
       "      <th>40</th>\n",
       "      <td>SOUTHERN ISLANDS</td>\n",
       "      <td>2344.385745</td>\n",
       "    </tr>\n",
       "    <tr>\n",
       "      <th>41</th>\n",
       "      <td>STRAITS VIEW</td>\n",
       "      <td>1551.484863</td>\n",
       "    </tr>\n",
       "    <tr>\n",
       "      <th>42</th>\n",
       "      <td>SUNGEI KADUT</td>\n",
       "      <td>1712.281078</td>\n",
       "    </tr>\n",
       "    <tr>\n",
       "      <th>43</th>\n",
       "      <td>TAMPINES</td>\n",
       "      <td>1577.981569</td>\n",
       "    </tr>\n",
       "    <tr>\n",
       "      <th>44</th>\n",
       "      <td>TANGLIN</td>\n",
       "      <td>1489.150275</td>\n",
       "    </tr>\n",
       "    <tr>\n",
       "      <th>45</th>\n",
       "      <td>TENGAH</td>\n",
       "      <td>2125.483039</td>\n",
       "    </tr>\n",
       "    <tr>\n",
       "      <th>46</th>\n",
       "      <td>TOA PAYOH</td>\n",
       "      <td>1172.257216</td>\n",
       "    </tr>\n",
       "    <tr>\n",
       "      <th>47</th>\n",
       "      <td>TUAS</td>\n",
       "      <td>2094.045314</td>\n",
       "    </tr>\n",
       "    <tr>\n",
       "      <th>48</th>\n",
       "      <td>WESTERN ISLANDS</td>\n",
       "      <td>1913.227941</td>\n",
       "    </tr>\n",
       "    <tr>\n",
       "      <th>49</th>\n",
       "      <td>WESTERN WATER CATCHMENT</td>\n",
       "      <td>2068.004098</td>\n",
       "    </tr>\n",
       "    <tr>\n",
       "      <th>50</th>\n",
       "      <td>WOODLANDS</td>\n",
       "      <td>1800.575294</td>\n",
       "    </tr>\n",
       "    <tr>\n",
       "      <th>51</th>\n",
       "      <td>YISHUN</td>\n",
       "      <td>1650.574078</td>\n",
       "    </tr>\n",
       "  </tbody>\n",
       "</table>\n",
       "</div>"
      ],
      "text/plain": [
       "       FID_destination_Name  Working_pop\n",
       "0                ANG MO KIO  1216.637039\n",
       "1                     BEDOK  1388.224275\n",
       "2                    BISHAN  1224.792902\n",
       "3                  BOON LAY  1971.688863\n",
       "4               BUKIT BATOK  1799.689647\n",
       "5               BUKIT MERAH  1248.393255\n",
       "6             BUKIT PANJANG  1497.790196\n",
       "7               BUKIT TIMAH  1380.388314\n",
       "8   CENTRAL WATER CATCHMENT  2356.098549\n",
       "9                    CHANGI  1925.992529\n",
       "10               CHANGI BAY  2075.744471\n",
       "11            CHOA CHU KANG  1684.225843\n",
       "12                 CLEMENTI  1838.976765\n",
       "13            DOWNTOWN CORE  1456.171412\n",
       "14                  GEYLANG  1370.728706\n",
       "15                  HOUGANG  1293.124451\n",
       "16              JURONG EAST  1869.668745\n",
       "17              JURONG WEST  1848.782216\n",
       "18                  KALLANG  1377.165922\n",
       "19             LIM CHU KANG  1970.528412\n",
       "20                   MANDAI  1593.403137\n",
       "21              MARINA EAST  2081.480294\n",
       "22             MARINA SOUTH  1478.188000\n",
       "23            MARINE PARADE  1395.352725\n",
       "24                   MUSEUM  1514.850922\n",
       "25                   NEWTON  1290.932549\n",
       "26                   NOVENA  1287.689745\n",
       "27                  ORCHARD  1349.989667\n",
       "28                   OUTRAM  1396.776686\n",
       "29                PASIR RIS  1618.394118\n",
       "30               PAYA LEBAR  1465.345098\n",
       "31                  PIONEER  2004.995667\n",
       "32                  PUNGGOL  1558.364373\n",
       "33               QUEENSTOWN  1700.347980\n",
       "34             RIVER VALLEY  1335.038706\n",
       "35                   ROCHOR  1325.722882\n",
       "36                SEMBAWANG  1966.830431\n",
       "37                 SENGKANG  1445.412255\n",
       "38                SERANGOON  1314.994078\n",
       "39          SINGAPORE RIVER  1455.498039\n",
       "40         SOUTHERN ISLANDS  2344.385745\n",
       "41             STRAITS VIEW  1551.484863\n",
       "42             SUNGEI KADUT  1712.281078\n",
       "43                 TAMPINES  1577.981569\n",
       "44                  TANGLIN  1489.150275\n",
       "45                   TENGAH  2125.483039\n",
       "46                TOA PAYOH  1172.257216\n",
       "47                     TUAS  2094.045314\n",
       "48          WESTERN ISLANDS  1913.227941\n",
       "49  WESTERN WATER CATCHMENT  2068.004098\n",
       "50                WOODLANDS  1800.575294\n",
       "51                   YISHUN  1650.574078"
      ]
     },
     "execution_count": 80,
     "metadata": {},
     "output_type": "execute_result"
    }
   ],
   "source": [
    "dt['Adjusted_origin_pop'] = dt['FID_origin_pop/1000']/51*dt['People_in_Transit_per_1000']\n",
    "pd.DataFrame({'Working_pop':dt.groupby('FID_destination_Name')['Adjusted_origin_pop'].sum()}).reset_index()"
   ]
  }
 ],
 "metadata": {
  "kernelspec": {
   "display_name": "Python 2",
   "language": "python",
   "name": "python2"
  },
  "language_info": {
   "codemirror_mode": {
    "name": "ipython",
    "version": 2
   },
   "file_extension": ".py",
   "mimetype": "text/x-python",
   "name": "python",
   "nbconvert_exporter": "python",
   "pygments_lexer": "ipython2",
   "version": "2.7.11"
  }
 },
 "nbformat": 4,
 "nbformat_minor": 0
}
